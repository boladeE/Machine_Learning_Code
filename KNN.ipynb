{
 "cells": [
  {
   "cell_type": "markdown",
   "id": "470034a2-7464-4626-8b25-ed97ded7a073",
   "metadata": {},
   "source": [
    "IMPLEMENTING KNN<br>\n",
    "KNN can be used for either classificaiton or regression.<br> \n",
    "<br>\n",
    "Given a new data point:<br>\n",
    "1. Calculate its distance from all other points in the dataset.\n",
    "2. Get the closest K points (K is a hyperparameter determined by the individual)\n",
    "3. For regression, find the average of the points.\n",
    "4. For classification, return the label with majority vote."
   ]
  },
  {
   "cell_type": "code",
   "execution_count": 1,
   "id": "f2effe2e-86b4-47ce-8c77-9873d6ca8c2a",
   "metadata": {},
   "outputs": [],
   "source": [
    "import numpy as np\n",
    "from collections import Counter\n",
    "\n",
    "def euclidian_distance(x1, x2):\n",
    "    distance = np.sqrt(np.sum((x1-x2)**2))\n",
    "\n",
    "class KNN:\n",
    "    def __init__(self, k=3):\n",
    "        self.k = k\n",
    "\n",
    "    def fit(self, X, y):\n",
    "        self.x_train = X\n",
    "        self.y_train = y\n",
    "\n",
    "    def predict(self, x_test):\n",
    "        predictions = [self._predict(x) for x in x_test]\n",
    "        return predictions\n",
    "\n",
    "    def _predict(self, single_x_test):\n",
    "        # Compute the distance from all datapoints\n",
    "        distances = [euclidian_distance(single_x_test, x_train) for x_train in self.x_train]\n",
    "\n",
    "        # get the closest k neighbors\n",
    "        k_indeces = np.argsort(distances)[:self.k]\n",
    "        k_nearest_labels = [self.y_train[i] for i in k_indeces]\n",
    "\n",
    "        # majority vote\n",
    "        most_common = Counter(k_nearest_labels).most_common()\n",
    "        return most_common\n"
   ]
  },
  {
   "cell_type": "markdown",
   "id": "bb94a1fb-456f-48bf-85f8-fed5f5cf49a6",
   "metadata": {},
   "source": [
    "<br><br><br>PRACTICAL USE"
   ]
  },
  {
   "cell_type": "code",
   "execution_count": null,
   "id": "95ba5d1f-a676-4f92-b734-5f07c809a866",
   "metadata": {},
   "outputs": [],
   "source": []
  }
 ],
 "metadata": {
  "kernelspec": {
   "display_name": "Python 3 (ipykernel)",
   "language": "python",
   "name": "python3"
  },
  "language_info": {
   "codemirror_mode": {
    "name": "ipython",
    "version": 3
   },
   "file_extension": ".py",
   "mimetype": "text/x-python",
   "name": "python",
   "nbconvert_exporter": "python",
   "pygments_lexer": "ipython3",
   "version": "3.9.13"
  }
 },
 "nbformat": 4,
 "nbformat_minor": 5
}
